{
  "nbformat": 4,
  "nbformat_minor": 0,
  "metadata": {
    "colab": {
      "provenance": [],
      "authorship_tag": "ABX9TyPvX95/zBXDgi58BVLoTEqG",
      "include_colab_link": true
    },
    "kernelspec": {
      "name": "python3",
      "display_name": "Python 3"
    },
    "language_info": {
      "name": "python"
    }
  },
  "cells": [
    {
      "cell_type": "markdown",
      "metadata": {
        "id": "view-in-github",
        "colab_type": "text"
      },
      "source": [
        "<a href=\"https://colab.research.google.com/github/lmly303/Ml-Learning/blob/main/Gradient_descent.ipynb\" target=\"_parent\"><img src=\"https://colab.research.google.com/assets/colab-badge.svg\" alt=\"Open In Colab\"/></a>"
      ]
    },
    {
      "cell_type": "code",
      "execution_count": 4,
      "metadata": {
        "id": "0IcjUXgS3AEA"
      },
      "outputs": [],
      "source": [
        "import numpy as np\n",
        "import matplotlib.pyplot as plt"
      ]
    },
    {
      "cell_type": "code",
      "source": [
        "np.random.seed(42)\n",
        "x = 2*np.random.rand(100,1)\n",
        "y = 4+3*x+np.random.rand(100,1) # random number is added as noise"
      ],
      "metadata": {
        "id": "LvyINwfx34d3"
      },
      "execution_count": 13,
      "outputs": []
    },
    {
      "cell_type": "code",
      "source": [
        "learning_rate = 0.1\n",
        "iterations = 1000\n",
        "m,n = x.shape\n",
        "# m is the number of data points (100 in this case).\n",
        "# n is the number of features (1 in this case, since X has only one column).\n",
        "theta = np.random.randn(n+1,1)"
      ],
      "metadata": {
        "id": "Xfmgl5eJ5TQf"
      },
      "execution_count": 18,
      "outputs": []
    },
    {
      "cell_type": "code",
      "source": [
        "x_bias = np.c_[np.ones((m,1)),x]\n",
        "print(x_bias)"
      ],
      "metadata": {
        "colab": {
          "base_uri": "https://localhost:8080/"
        },
        "id": "JKElJYWv5VO-",
        "outputId": "96681852-60ad-4fae-bcea-2cb367613a8b"
      },
      "execution_count": 15,
      "outputs": [
        {
          "output_type": "stream",
          "name": "stdout",
          "text": [
            "[[1.         0.74908024]\n",
            " [1.         1.90142861]\n",
            " [1.         1.46398788]\n",
            " [1.         1.19731697]\n",
            " [1.         0.31203728]\n",
            " [1.         0.31198904]\n",
            " [1.         0.11616722]\n",
            " [1.         1.73235229]\n",
            " [1.         1.20223002]\n",
            " [1.         1.41614516]\n",
            " [1.         0.04116899]\n",
            " [1.         1.9398197 ]\n",
            " [1.         1.66488528]\n",
            " [1.         0.42467822]\n",
            " [1.         0.36364993]\n",
            " [1.         0.36680902]\n",
            " [1.         0.60848449]\n",
            " [1.         1.04951286]\n",
            " [1.         0.86389004]\n",
            " [1.         0.58245828]\n",
            " [1.         1.22370579]\n",
            " [1.         0.27898772]\n",
            " [1.         0.5842893 ]\n",
            " [1.         0.73272369]\n",
            " [1.         0.91213997]\n",
            " [1.         1.57035192]\n",
            " [1.         0.39934756]\n",
            " [1.         1.02846888]\n",
            " [1.         1.18482914]\n",
            " [1.         0.09290083]\n",
            " [1.         1.2150897 ]\n",
            " [1.         0.34104825]\n",
            " [1.         0.13010319]\n",
            " [1.         1.89777107]\n",
            " [1.         1.93126407]\n",
            " [1.         1.6167947 ]\n",
            " [1.         0.60922754]\n",
            " [1.         0.19534423]\n",
            " [1.         1.36846605]\n",
            " [1.         0.88030499]\n",
            " [1.         0.24407647]\n",
            " [1.         0.99035382]\n",
            " [1.         0.06877704]\n",
            " [1.         1.8186408 ]\n",
            " [1.         0.51755996]\n",
            " [1.         1.32504457]\n",
            " [1.         0.62342215]\n",
            " [1.         1.04013604]\n",
            " [1.         1.09342056]\n",
            " [1.         0.36970891]\n",
            " [1.         1.93916926]\n",
            " [1.         1.55026565]\n",
            " [1.         1.87899788]\n",
            " [1.         1.7896547 ]\n",
            " [1.         1.19579996]\n",
            " [1.         1.84374847]\n",
            " [1.         0.176985  ]\n",
            " [1.         0.39196572]\n",
            " [1.         0.09045458]\n",
            " [1.         0.65066066]\n",
            " [1.         0.77735458]\n",
            " [1.         0.54269806]\n",
            " [1.         1.65747502]\n",
            " [1.         0.71350665]\n",
            " [1.         0.56186902]\n",
            " [1.         1.08539217]\n",
            " [1.         0.28184845]\n",
            " [1.         1.60439396]\n",
            " [1.         0.14910129]\n",
            " [1.         1.97377387]\n",
            " [1.         1.54448954]\n",
            " [1.         0.39743136]\n",
            " [1.         0.01104423]\n",
            " [1.         1.63092286]\n",
            " [1.         1.41371469]\n",
            " [1.         1.45801434]\n",
            " [1.         1.54254069]\n",
            " [1.         0.1480893 ]\n",
            " [1.         0.71693146]\n",
            " [1.         0.23173812]\n",
            " [1.         1.72620685]\n",
            " [1.         1.24659625]\n",
            " [1.         0.66179605]\n",
            " [1.         0.1271167 ]\n",
            " [1.         0.62196464]\n",
            " [1.         0.65036664]\n",
            " [1.         1.45921236]\n",
            " [1.         1.27511494]\n",
            " [1.         1.77442549]\n",
            " [1.         0.94442985]\n",
            " [1.         0.23918849]\n",
            " [1.         1.42648957]\n",
            " [1.         1.5215701 ]\n",
            " [1.         1.1225544 ]\n",
            " [1.         1.54193436]\n",
            " [1.         0.98759119]\n",
            " [1.         1.04546566]\n",
            " [1.         0.85508204]\n",
            " [1.         0.05083825]\n",
            " [1.         0.21578285]]\n"
          ]
        }
      ]
    },
    {
      "cell_type": "code",
      "source": [
        "for i in range(iterations):\n",
        "  gradients = (2/m)*x_bias.T@(x_bias@theta-y)\n",
        "  theta -= learning_rate*gradients\n",
        "\n",
        "print(f\"Optimized theta: {theta.ravel()}\")"
      ],
      "metadata": {
        "colab": {
          "base_uri": "https://localhost:8080/"
        },
        "id": "5PAGABPl9PlK",
        "outputId": "cb2a8de8-2396-4b67-aeb2-30c7f43d2bf5"
      },
      "execution_count": 22,
      "outputs": [
        {
          "output_type": "stream",
          "name": "stdout",
          "text": [
            "Optimized theta: [4.51359766 2.98323418]\n"
          ]
        }
      ]
    },
    {
      "cell_type": "code",
      "source": [
        "plt.scatter(x, y, color='blue', label='Data')\n",
        "plt.plot(x, x_bias @ theta, color='red', label='Linear Regression Line')\n",
        "plt.xlabel(\"X\")\n",
        "plt.ylabel(\"y\")\n",
        "plt.legend()\n",
        "plt.show()\n"
      ],
      "metadata": {
        "colab": {
          "base_uri": "https://localhost:8080/",
          "height": 452
        },
        "id": "KwFaPA43_dzR",
        "outputId": "306db3c4-a78a-4b75-dabb-46f0e48c2b70"
      },
      "execution_count": 24,
      "outputs": [
        {
          "output_type": "display_data",
          "data": {
            "text/plain": [
              "<Figure size 640x480 with 1 Axes>"
            ],
            "image/png": "[encoded data removed]"
          },
          "metadata": {}
        }
      ]
    },
    {
      "cell_type": "code",
      "source": [],
      "metadata": {
        "id": "6-2ayLMFAOmp"
      },
      "execution_count": null,
      "outputs": []
    }
  ]
}