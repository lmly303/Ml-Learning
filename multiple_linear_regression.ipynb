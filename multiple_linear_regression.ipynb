{
  "nbformat": 4,
  "nbformat_minor": 0,
  "metadata": {
    "colab": {
      "provenance": [],
      "authorship_tag": "ABX9TyPtJXsTG3UP99Qq/dQzLtx+",
      "include_colab_link": true
    },
    "kernelspec": {
      "name": "python3",
      "display_name": "Python 3"
    },
    "language_info": {
      "name": "python"
    }
  },
  "cells": [
    {
      "cell_type": "markdown",
      "metadata": {
        "id": "view-in-github",
        "colab_type": "text"
      },
      "source": [
        "<a href=\"https://colab.research.google.com/github/lmly303/Ml-Learning/blob/main/multiple_linear_regression.ipynb\" target=\"_parent\"><img src=\"https://colab.research.google.com/assets/colab-badge.svg\" alt=\"Open In Colab\"/></a>"
      ]
    },
    {
      "cell_type": "code",
      "execution_count": 1,
      "metadata": {
        "id": "c5iggqh4HB17"
      },
      "outputs": [],
      "source": [
        "import pandas as pd\n",
        "import numpy as np\n",
        "import matplotlib.pyplot as plt"
      ]
    },
    {
      "cell_type": "code",
      "source": [
        "data = pd.read_csv('Housing.csv',delimiter=';')\n",
        "print(data.head(10))"
      ],
      "metadata": {
        "colab": {
          "base_uri": "https://localhost:8080/"
        },
        "id": "a-rSxB34IPIK",
        "outputId": "3cc8a623-fc18-4b70-c812-e7ca9b3edebb"
      },
      "execution_count": 4,
      "outputs": [
        {
          "output_type": "stream",
          "name": "stdout",
          "text": [
            "      price   area  bedrooms  bathrooms  mainroad  guestroom  parking\n",
            "0  13300000   7420         4          2         1          0        2\n",
            "1  12250000   8960         4          4         1          0        3\n",
            "2  12250000   9960         3          2         1          0        2\n",
            "3  12215000   7500         4          2         1          0        3\n",
            "4  11410000   7420         4          1         1          1        2\n",
            "5  10850000   7500         3          3         1          0        2\n",
            "6  10150000   8580         4          3         1          0        2\n",
            "7  10150000  16200         5          3         1          0        0\n",
            "8   9870000   8100         4          1         1          1        2\n",
            "9   9800000   5750         3          2         1          1        1\n"
          ]
        }
      ]
    },
    {
      "cell_type": "code",
      "source": [],
      "metadata": {
        "id": "dNiBu7ZLIjBE"
      },
      "execution_count": null,
      "outputs": []
    }
  ]
}